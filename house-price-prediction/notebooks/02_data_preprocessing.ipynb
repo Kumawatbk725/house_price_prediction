{
 "cells": [
  {
   "cell_type": "code",
   "execution_count": 1,
   "metadata": {},
   "outputs": [
    {
     "name": "stdout",
     "output_type": "stream",
     "text": [
      "Preprocessing complete. Files saved to ../data/processed\n",
      "Training data shape: (16512, 10)\n",
      "Testing data shape: (4128, 10)\n",
      "\n",
      "Processed training data sample:\n",
      "         MedInc  HouseAge  AveRooms  AveBedrms  Population  AveOccup  \\\n",
      "14196 -0.326196  0.348490 -0.174916  -0.208365    0.768276  0.051376   \n",
      "8267  -0.035843  1.618118 -0.402835  -0.128530   -0.098901 -0.117362   \n",
      "17445  0.144701 -1.952710  0.088216  -0.257538   -0.449818 -0.032280   \n",
      "14265 -1.017864  0.586545 -0.600015  -0.145156   -0.007434  0.077507   \n",
      "2271  -0.171488  1.142008  0.349007   0.086624   -0.485877 -0.068832   \n",
      "\n",
      "       Latitude  Longitude  PopulationDensity  Price  \n",
      "14196 -1.372811   1.272587           0.322906  1.030  \n",
      "8267  -0.876696   0.709162           0.672027  3.821  \n",
      "17445 -0.460146  -0.447603          -0.430461  1.726  \n",
      "14265 -1.382172   1.232698          -0.380587  0.934  \n",
      "2271   0.532084  -0.108551          -0.314962  0.965  \n"
     ]
    }
   ],
   "source": [
    "import sys\n",
    "import os\n",
    "sys.path.append('../')  # Add parent directory to path\n",
    "\n",
    "from src.preprocessing.preprocessor import DataPreprocessor\n",
    "\n",
    "# Initialize the preprocessor\n",
    "preprocessor = DataPreprocessor(\n",
    "    input_file='../data/raw/california_housing.csv',\n",
    "    output_dir='../data/processed'\n",
    ")\n",
    "\n",
    "# Run preprocessing\n",
    "train_data, test_data = preprocessor.preprocess()\n",
    "\n",
    "# Display results\n",
    "print(\"Training data shape:\", train_data.shape)\n",
    "print(\"Testing data shape:\", test_data.shape)\n",
    "\n",
    "# Preview processed data\n",
    "print(\"\\nProcessed training data sample:\")\n",
    "print(train_data.head())"
   ]
  },
  {
   "cell_type": "code",
   "execution_count": null,
   "metadata": {},
   "outputs": [],
   "source": []
  }
 ],
 "metadata": {
  "kernelspec": {
   "display_name": "Python 3",
   "language": "python",
   "name": "python3"
  },
  "language_info": {
   "codemirror_mode": {
    "name": "ipython",
    "version": 3
   },
   "file_extension": ".py",
   "mimetype": "text/x-python",
   "name": "python",
   "nbconvert_exporter": "python",
   "pygments_lexer": "ipython3",
   "version": "3.12.9"
  }
 },
 "nbformat": 4,
 "nbformat_minor": 2
}
